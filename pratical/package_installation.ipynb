{
 "cells": [
  {
   "cell_type": "markdown",
   "id": "e8da3acc",
   "metadata": {},
   "source": [
    "# Installation\n",
    "\n",
    "Once you have installed VSCode and Julia, run the following cells to install the necessary Julia packages for the workshop."
   ]
  },
  {
   "cell_type": "code",
   "execution_count": null,
   "id": "f5e11f4a",
   "metadata": {},
   "outputs": [],
   "source": [
    "using Pkg"
   ]
  },
  {
   "cell_type": "code",
   "execution_count": null,
   "id": "1bf5ad98",
   "metadata": {},
   "outputs": [],
   "source": [
    "Pkg.add(url=\"https://github.com/aptmcl/KhepriTikZ.jl\")"
   ]
  },
  {
   "cell_type": "code",
   "execution_count": null,
   "id": "dab44b2c",
   "metadata": {},
   "outputs": [],
   "source": [
    "Pkg.add(url=\"https://github.com/aptmcl/KhepriIllustrator.jl\")"
   ]
  }
 ],
 "metadata": {
  "kernelspec": {
   "display_name": "Julia 1.11.0",
   "language": "julia",
   "name": "julia-1.11"
  },
  "language_info": {
   "file_extension": ".jl",
   "mimetype": "application/julia",
   "name": "julia",
   "version": "1.11.0"
  }
 },
 "nbformat": 4,
 "nbformat_minor": 5
}
